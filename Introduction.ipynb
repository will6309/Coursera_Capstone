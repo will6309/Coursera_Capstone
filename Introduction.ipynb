{
    "cells": [
        {
            "metadata": {
                "collapsed": true
            },
            "cell_type": "markdown",
            "source": "## Introduction/Business Problem\n\nNew York City has been described as the cultural,] financial, and media capital of the world. It has a strong multicultural background.  People visit or migrate there may from anywhere in the world.  I found that food can reflect where people are from. So we would like to explore different foods in different neighborhoods by studying what kind of restaurant is the most popular in each neighborhood. This work may help people select which neighborhood they want to live just based on their tastes."
        },
        {
            "metadata": {},
            "cell_type": "markdown",
            "source": "## Data\n#### 1.Neighborhood Data.\n\nNew York Neighborhood Data is needed for the information of each neighbor and for extracting the restaurant data. This dataset is downloaded from the website: https://cocl.us/new_york_dataset.\n\n#### 2.Geospatial Data.\n\nThe geospatial data of New York is obtained from the Foursquare API. All the information related to the coordinates and venues are obtained through this API. With this information, I can get idea of distributions of venues in different neighborhood, such as the Chinese Restaurant, Thai Restaurant and Japanese Restaurant."
        },
        {
            "metadata": {},
            "cell_type": "code",
            "source": "",
            "execution_count": null,
            "outputs": []
        }
    ],
    "metadata": {
        "kernelspec": {
            "name": "python3",
            "display_name": "Python 3.6",
            "language": "python"
        },
        "language_info": {
            "name": "python",
            "version": "3.6.9",
            "mimetype": "text/x-python",
            "codemirror_mode": {
                "name": "ipython",
                "version": 3
            },
            "pygments_lexer": "ipython3",
            "nbconvert_exporter": "python",
            "file_extension": ".py"
        }
    },
    "nbformat": 4,
    "nbformat_minor": 1
}